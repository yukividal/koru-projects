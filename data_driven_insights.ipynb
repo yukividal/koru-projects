{
  "nbformat": 4,
  "nbformat_minor": 0,
  "metadata": {
    "colab": {
      "provenance": [],
      "authorship_tag": "ABX9TyNlBIfsMbGpUKgCP2UK4zGc",
      "include_colab_link": true
    },
    "kernelspec": {
      "name": "python3",
      "display_name": "Python 3"
    },
    "language_info": {
      "name": "python"
    }
  },
  "cells": [
    {
      "cell_type": "markdown",
      "metadata": {
        "id": "view-in-github",
        "colab_type": "text"
      },
      "source": [
        "<a href=\"https://colab.research.google.com/github/yukividal/koru-projects/blob/main/data_driven_insights.ipynb\" target=\"_parent\"><img src=\"https://colab.research.google.com/assets/colab-badge.svg\" alt=\"Open In Colab\"/></a>"
      ]
    },
    {
      "cell_type": "markdown",
      "source": [
        "Importanto as Libs"
      ],
      "metadata": {
        "id": "9yMo0Px8ydGN"
      }
    },
    {
      "cell_type": "code",
      "execution_count": 1,
      "metadata": {
        "id": "_ZGfzPAdyYmd"
      },
      "outputs": [],
      "source": [
        "import pandas as pd\n",
        "import numpy as np\n",
        "import matplotlib.pyplot as plt"
      ]
    },
    {
      "cell_type": "markdown",
      "source": [
        "Fazendo upload do doc"
      ],
      "metadata": {
        "id": "XSQBwfZasRbB"
      }
    },
    {
      "cell_type": "code",
      "source": [
        "from google.colab import files\n",
        "uploaded = files.upload()"
      ],
      "metadata": {
        "colab": {
          "base_uri": "https://localhost:8080/",
          "height": 73
        },
        "id": "zCIcqKx70_Vw",
        "outputId": "724fa1f9-7535-4e9b-f3e1-825824e93305"
      },
      "execution_count": 2,
      "outputs": [
        {
          "output_type": "display_data",
          "data": {
            "text/plain": [
              "<IPython.core.display.HTML object>"
            ],
            "text/html": [
              "\n",
              "     <input type=\"file\" id=\"files-a00acccb-6d41-4c3b-a25f-e918ffb68e54\" name=\"files[]\" multiple disabled\n",
              "        style=\"border:none\" />\n",
              "     <output id=\"result-a00acccb-6d41-4c3b-a25f-e918ffb68e54\">\n",
              "      Upload widget is only available when the cell has been executed in the\n",
              "      current browser session. Please rerun this cell to enable.\n",
              "      </output>\n",
              "      <script>// Copyright 2017 Google LLC\n",
              "//\n",
              "// Licensed under the Apache License, Version 2.0 (the \"License\");\n",
              "// you may not use this file except in compliance with the License.\n",
              "// You may obtain a copy of the License at\n",
              "//\n",
              "//      http://www.apache.org/licenses/LICENSE-2.0\n",
              "//\n",
              "// Unless required by applicable law or agreed to in writing, software\n",
              "// distributed under the License is distributed on an \"AS IS\" BASIS,\n",
              "// WITHOUT WARRANTIES OR CONDITIONS OF ANY KIND, either express or implied.\n",
              "// See the License for the specific language governing permissions and\n",
              "// limitations under the License.\n",
              "\n",
              "/**\n",
              " * @fileoverview Helpers for google.colab Python module.\n",
              " */\n",
              "(function(scope) {\n",
              "function span(text, styleAttributes = {}) {\n",
              "  const element = document.createElement('span');\n",
              "  element.textContent = text;\n",
              "  for (const key of Object.keys(styleAttributes)) {\n",
              "    element.style[key] = styleAttributes[key];\n",
              "  }\n",
              "  return element;\n",
              "}\n",
              "\n",
              "// Max number of bytes which will be uploaded at a time.\n",
              "const MAX_PAYLOAD_SIZE = 100 * 1024;\n",
              "\n",
              "function _uploadFiles(inputId, outputId) {\n",
              "  const steps = uploadFilesStep(inputId, outputId);\n",
              "  const outputElement = document.getElementById(outputId);\n",
              "  // Cache steps on the outputElement to make it available for the next call\n",
              "  // to uploadFilesContinue from Python.\n",
              "  outputElement.steps = steps;\n",
              "\n",
              "  return _uploadFilesContinue(outputId);\n",
              "}\n",
              "\n",
              "// This is roughly an async generator (not supported in the browser yet),\n",
              "// where there are multiple asynchronous steps and the Python side is going\n",
              "// to poll for completion of each step.\n",
              "// This uses a Promise to block the python side on completion of each step,\n",
              "// then passes the result of the previous step as the input to the next step.\n",
              "function _uploadFilesContinue(outputId) {\n",
              "  const outputElement = document.getElementById(outputId);\n",
              "  const steps = outputElement.steps;\n",
              "\n",
              "  const next = steps.next(outputElement.lastPromiseValue);\n",
              "  return Promise.resolve(next.value.promise).then((value) => {\n",
              "    // Cache the last promise value to make it available to the next\n",
              "    // step of the generator.\n",
              "    outputElement.lastPromiseValue = value;\n",
              "    return next.value.response;\n",
              "  });\n",
              "}\n",
              "\n",
              "/**\n",
              " * Generator function which is called between each async step of the upload\n",
              " * process.\n",
              " * @param {string} inputId Element ID of the input file picker element.\n",
              " * @param {string} outputId Element ID of the output display.\n",
              " * @return {!Iterable<!Object>} Iterable of next steps.\n",
              " */\n",
              "function* uploadFilesStep(inputId, outputId) {\n",
              "  const inputElement = document.getElementById(inputId);\n",
              "  inputElement.disabled = false;\n",
              "\n",
              "  const outputElement = document.getElementById(outputId);\n",
              "  outputElement.innerHTML = '';\n",
              "\n",
              "  const pickedPromise = new Promise((resolve) => {\n",
              "    inputElement.addEventListener('change', (e) => {\n",
              "      resolve(e.target.files);\n",
              "    });\n",
              "  });\n",
              "\n",
              "  const cancel = document.createElement('button');\n",
              "  inputElement.parentElement.appendChild(cancel);\n",
              "  cancel.textContent = 'Cancel upload';\n",
              "  const cancelPromise = new Promise((resolve) => {\n",
              "    cancel.onclick = () => {\n",
              "      resolve(null);\n",
              "    };\n",
              "  });\n",
              "\n",
              "  // Wait for the user to pick the files.\n",
              "  const files = yield {\n",
              "    promise: Promise.race([pickedPromise, cancelPromise]),\n",
              "    response: {\n",
              "      action: 'starting',\n",
              "    }\n",
              "  };\n",
              "\n",
              "  cancel.remove();\n",
              "\n",
              "  // Disable the input element since further picks are not allowed.\n",
              "  inputElement.disabled = true;\n",
              "\n",
              "  if (!files) {\n",
              "    return {\n",
              "      response: {\n",
              "        action: 'complete',\n",
              "      }\n",
              "    };\n",
              "  }\n",
              "\n",
              "  for (const file of files) {\n",
              "    const li = document.createElement('li');\n",
              "    li.append(span(file.name, {fontWeight: 'bold'}));\n",
              "    li.append(span(\n",
              "        `(${file.type || 'n/a'}) - ${file.size} bytes, ` +\n",
              "        `last modified: ${\n",
              "            file.lastModifiedDate ? file.lastModifiedDate.toLocaleDateString() :\n",
              "                                    'n/a'} - `));\n",
              "    const percent = span('0% done');\n",
              "    li.appendChild(percent);\n",
              "\n",
              "    outputElement.appendChild(li);\n",
              "\n",
              "    const fileDataPromise = new Promise((resolve) => {\n",
              "      const reader = new FileReader();\n",
              "      reader.onload = (e) => {\n",
              "        resolve(e.target.result);\n",
              "      };\n",
              "      reader.readAsArrayBuffer(file);\n",
              "    });\n",
              "    // Wait for the data to be ready.\n",
              "    let fileData = yield {\n",
              "      promise: fileDataPromise,\n",
              "      response: {\n",
              "        action: 'continue',\n",
              "      }\n",
              "    };\n",
              "\n",
              "    // Use a chunked sending to avoid message size limits. See b/62115660.\n",
              "    let position = 0;\n",
              "    do {\n",
              "      const length = Math.min(fileData.byteLength - position, MAX_PAYLOAD_SIZE);\n",
              "      const chunk = new Uint8Array(fileData, position, length);\n",
              "      position += length;\n",
              "\n",
              "      const base64 = btoa(String.fromCharCode.apply(null, chunk));\n",
              "      yield {\n",
              "        response: {\n",
              "          action: 'append',\n",
              "          file: file.name,\n",
              "          data: base64,\n",
              "        },\n",
              "      };\n",
              "\n",
              "      let percentDone = fileData.byteLength === 0 ?\n",
              "          100 :\n",
              "          Math.round((position / fileData.byteLength) * 100);\n",
              "      percent.textContent = `${percentDone}% done`;\n",
              "\n",
              "    } while (position < fileData.byteLength);\n",
              "  }\n",
              "\n",
              "  // All done.\n",
              "  yield {\n",
              "    response: {\n",
              "      action: 'complete',\n",
              "    }\n",
              "  };\n",
              "}\n",
              "\n",
              "scope.google = scope.google || {};\n",
              "scope.google.colab = scope.google.colab || {};\n",
              "scope.google.colab._files = {\n",
              "  _uploadFiles,\n",
              "  _uploadFilesContinue,\n",
              "};\n",
              "})(self);\n",
              "</script> "
            ]
          },
          "metadata": {}
        },
        {
          "output_type": "stream",
          "name": "stdout",
          "text": [
            "Saving college_student_placement_dataset.csv to college_student_placement_dataset.csv\n"
          ]
        }
      ]
    },
    {
      "cell_type": "markdown",
      "source": [
        "Lendo o arquivo\n"
      ],
      "metadata": {
        "id": "aW_ofWO41fBV"
      }
    },
    {
      "cell_type": "code",
      "source": [
        "df = pd.read_csv('college_student_placement_dataset.csv')\n"
      ],
      "metadata": {
        "id": "mZ2jJJkk1eU1"
      },
      "execution_count": 7,
      "outputs": []
    },
    {
      "cell_type": "markdown",
      "source": [
        "Visualizando as 5 primeiras linhas"
      ],
      "metadata": {
        "id": "RIHehUJWr-ye"
      }
    },
    {
      "cell_type": "code",
      "source": [
        "df.head()"
      ],
      "metadata": {
        "colab": {
          "base_uri": "https://localhost:8080/",
          "height": 206
        },
        "id": "2VvTt-RFroXT",
        "outputId": "df186692-6658-4143-ab66-d3ad8bfd6e6f"
      },
      "execution_count": 9,
      "outputs": [
        {
          "output_type": "execute_result",
          "data": {
            "text/plain": [
              "  College_ID   IQ  Prev_Sem_Result  CGPA  Academic_Performance  \\\n",
              "0    CLG0030  107             6.61  6.28                     8   \n",
              "1    CLG0061   97             5.52  5.37                     8   \n",
              "2    CLG0036  109             5.36  5.83                     9   \n",
              "3    CLG0055  122             5.47  5.75                     6   \n",
              "4    CLG0004   96             7.91  7.69                     7   \n",
              "\n",
              "  Internship_Experience  Extra_Curricular_Score  Communication_Skills  \\\n",
              "0                    No                       8                     8   \n",
              "1                    No                       7                     8   \n",
              "2                    No                       3                     1   \n",
              "3                   Yes                       1                     6   \n",
              "4                    No                       8                    10   \n",
              "\n",
              "   Projects_Completed Placement  \n",
              "0                   4        No  \n",
              "1                   0        No  \n",
              "2                   1        No  \n",
              "3                   1        No  \n",
              "4                   2        No  "
            ],
            "text/html": [
              "\n",
              "  <div id=\"df-c0aa9ef7-1b7a-4383-a660-35a2b5976dbc\" class=\"colab-df-container\">\n",
              "    <div>\n",
              "<style scoped>\n",
              "    .dataframe tbody tr th:only-of-type {\n",
              "        vertical-align: middle;\n",
              "    }\n",
              "\n",
              "    .dataframe tbody tr th {\n",
              "        vertical-align: top;\n",
              "    }\n",
              "\n",
              "    .dataframe thead th {\n",
              "        text-align: right;\n",
              "    }\n",
              "</style>\n",
              "<table border=\"1\" class=\"dataframe\">\n",
              "  <thead>\n",
              "    <tr style=\"text-align: right;\">\n",
              "      <th></th>\n",
              "      <th>College_ID</th>\n",
              "      <th>IQ</th>\n",
              "      <th>Prev_Sem_Result</th>\n",
              "      <th>CGPA</th>\n",
              "      <th>Academic_Performance</th>\n",
              "      <th>Internship_Experience</th>\n",
              "      <th>Extra_Curricular_Score</th>\n",
              "      <th>Communication_Skills</th>\n",
              "      <th>Projects_Completed</th>\n",
              "      <th>Placement</th>\n",
              "    </tr>\n",
              "  </thead>\n",
              "  <tbody>\n",
              "    <tr>\n",
              "      <th>0</th>\n",
              "      <td>CLG0030</td>\n",
              "      <td>107</td>\n",
              "      <td>6.61</td>\n",
              "      <td>6.28</td>\n",
              "      <td>8</td>\n",
              "      <td>No</td>\n",
              "      <td>8</td>\n",
              "      <td>8</td>\n",
              "      <td>4</td>\n",
              "      <td>No</td>\n",
              "    </tr>\n",
              "    <tr>\n",
              "      <th>1</th>\n",
              "      <td>CLG0061</td>\n",
              "      <td>97</td>\n",
              "      <td>5.52</td>\n",
              "      <td>5.37</td>\n",
              "      <td>8</td>\n",
              "      <td>No</td>\n",
              "      <td>7</td>\n",
              "      <td>8</td>\n",
              "      <td>0</td>\n",
              "      <td>No</td>\n",
              "    </tr>\n",
              "    <tr>\n",
              "      <th>2</th>\n",
              "      <td>CLG0036</td>\n",
              "      <td>109</td>\n",
              "      <td>5.36</td>\n",
              "      <td>5.83</td>\n",
              "      <td>9</td>\n",
              "      <td>No</td>\n",
              "      <td>3</td>\n",
              "      <td>1</td>\n",
              "      <td>1</td>\n",
              "      <td>No</td>\n",
              "    </tr>\n",
              "    <tr>\n",
              "      <th>3</th>\n",
              "      <td>CLG0055</td>\n",
              "      <td>122</td>\n",
              "      <td>5.47</td>\n",
              "      <td>5.75</td>\n",
              "      <td>6</td>\n",
              "      <td>Yes</td>\n",
              "      <td>1</td>\n",
              "      <td>6</td>\n",
              "      <td>1</td>\n",
              "      <td>No</td>\n",
              "    </tr>\n",
              "    <tr>\n",
              "      <th>4</th>\n",
              "      <td>CLG0004</td>\n",
              "      <td>96</td>\n",
              "      <td>7.91</td>\n",
              "      <td>7.69</td>\n",
              "      <td>7</td>\n",
              "      <td>No</td>\n",
              "      <td>8</td>\n",
              "      <td>10</td>\n",
              "      <td>2</td>\n",
              "      <td>No</td>\n",
              "    </tr>\n",
              "  </tbody>\n",
              "</table>\n",
              "</div>\n",
              "    <div class=\"colab-df-buttons\">\n",
              "\n",
              "  <div class=\"colab-df-container\">\n",
              "    <button class=\"colab-df-convert\" onclick=\"convertToInteractive('df-c0aa9ef7-1b7a-4383-a660-35a2b5976dbc')\"\n",
              "            title=\"Convert this dataframe to an interactive table.\"\n",
              "            style=\"display:none;\">\n",
              "\n",
              "  <svg xmlns=\"http://www.w3.org/2000/svg\" height=\"24px\" viewBox=\"0 -960 960 960\">\n",
              "    <path d=\"M120-120v-720h720v720H120Zm60-500h600v-160H180v160Zm220 220h160v-160H400v160Zm0 220h160v-160H400v160ZM180-400h160v-160H180v160Zm440 0h160v-160H620v160ZM180-180h160v-160H180v160Zm440 0h160v-160H620v160Z\"/>\n",
              "  </svg>\n",
              "    </button>\n",
              "\n",
              "  <style>\n",
              "    .colab-df-container {\n",
              "      display:flex;\n",
              "      gap: 12px;\n",
              "    }\n",
              "\n",
              "    .colab-df-convert {\n",
              "      background-color: #E8F0FE;\n",
              "      border: none;\n",
              "      border-radius: 50%;\n",
              "      cursor: pointer;\n",
              "      display: none;\n",
              "      fill: #1967D2;\n",
              "      height: 32px;\n",
              "      padding: 0 0 0 0;\n",
              "      width: 32px;\n",
              "    }\n",
              "\n",
              "    .colab-df-convert:hover {\n",
              "      background-color: #E2EBFA;\n",
              "      box-shadow: 0px 1px 2px rgba(60, 64, 67, 0.3), 0px 1px 3px 1px rgba(60, 64, 67, 0.15);\n",
              "      fill: #174EA6;\n",
              "    }\n",
              "\n",
              "    .colab-df-buttons div {\n",
              "      margin-bottom: 4px;\n",
              "    }\n",
              "\n",
              "    [theme=dark] .colab-df-convert {\n",
              "      background-color: #3B4455;\n",
              "      fill: #D2E3FC;\n",
              "    }\n",
              "\n",
              "    [theme=dark] .colab-df-convert:hover {\n",
              "      background-color: #434B5C;\n",
              "      box-shadow: 0px 1px 3px 1px rgba(0, 0, 0, 0.15);\n",
              "      filter: drop-shadow(0px 1px 2px rgba(0, 0, 0, 0.3));\n",
              "      fill: #FFFFFF;\n",
              "    }\n",
              "  </style>\n",
              "\n",
              "    <script>\n",
              "      const buttonEl =\n",
              "        document.querySelector('#df-c0aa9ef7-1b7a-4383-a660-35a2b5976dbc button.colab-df-convert');\n",
              "      buttonEl.style.display =\n",
              "        google.colab.kernel.accessAllowed ? 'block' : 'none';\n",
              "\n",
              "      async function convertToInteractive(key) {\n",
              "        const element = document.querySelector('#df-c0aa9ef7-1b7a-4383-a660-35a2b5976dbc');\n",
              "        const dataTable =\n",
              "          await google.colab.kernel.invokeFunction('convertToInteractive',\n",
              "                                                    [key], {});\n",
              "        if (!dataTable) return;\n",
              "\n",
              "        const docLinkHtml = 'Like what you see? Visit the ' +\n",
              "          '<a target=\"_blank\" href=https://colab.research.google.com/notebooks/data_table.ipynb>data table notebook</a>'\n",
              "          + ' to learn more about interactive tables.';\n",
              "        element.innerHTML = '';\n",
              "        dataTable['output_type'] = 'display_data';\n",
              "        await google.colab.output.renderOutput(dataTable, element);\n",
              "        const docLink = document.createElement('div');\n",
              "        docLink.innerHTML = docLinkHtml;\n",
              "        element.appendChild(docLink);\n",
              "      }\n",
              "    </script>\n",
              "  </div>\n",
              "\n",
              "\n",
              "    <div id=\"df-058aa9ff-fb32-4fae-bf7c-40f021c72d12\">\n",
              "      <button class=\"colab-df-quickchart\" onclick=\"quickchart('df-058aa9ff-fb32-4fae-bf7c-40f021c72d12')\"\n",
              "                title=\"Suggest charts\"\n",
              "                style=\"display:none;\">\n",
              "\n",
              "<svg xmlns=\"http://www.w3.org/2000/svg\" height=\"24px\"viewBox=\"0 0 24 24\"\n",
              "     width=\"24px\">\n",
              "    <g>\n",
              "        <path d=\"M19 3H5c-1.1 0-2 .9-2 2v14c0 1.1.9 2 2 2h14c1.1 0 2-.9 2-2V5c0-1.1-.9-2-2-2zM9 17H7v-7h2v7zm4 0h-2V7h2v10zm4 0h-2v-4h2v4z\"/>\n",
              "    </g>\n",
              "</svg>\n",
              "      </button>\n",
              "\n",
              "<style>\n",
              "  .colab-df-quickchart {\n",
              "      --bg-color: #E8F0FE;\n",
              "      --fill-color: #1967D2;\n",
              "      --hover-bg-color: #E2EBFA;\n",
              "      --hover-fill-color: #174EA6;\n",
              "      --disabled-fill-color: #AAA;\n",
              "      --disabled-bg-color: #DDD;\n",
              "  }\n",
              "\n",
              "  [theme=dark] .colab-df-quickchart {\n",
              "      --bg-color: #3B4455;\n",
              "      --fill-color: #D2E3FC;\n",
              "      --hover-bg-color: #434B5C;\n",
              "      --hover-fill-color: #FFFFFF;\n",
              "      --disabled-bg-color: #3B4455;\n",
              "      --disabled-fill-color: #666;\n",
              "  }\n",
              "\n",
              "  .colab-df-quickchart {\n",
              "    background-color: var(--bg-color);\n",
              "    border: none;\n",
              "    border-radius: 50%;\n",
              "    cursor: pointer;\n",
              "    display: none;\n",
              "    fill: var(--fill-color);\n",
              "    height: 32px;\n",
              "    padding: 0;\n",
              "    width: 32px;\n",
              "  }\n",
              "\n",
              "  .colab-df-quickchart:hover {\n",
              "    background-color: var(--hover-bg-color);\n",
              "    box-shadow: 0 1px 2px rgba(60, 64, 67, 0.3), 0 1px 3px 1px rgba(60, 64, 67, 0.15);\n",
              "    fill: var(--button-hover-fill-color);\n",
              "  }\n",
              "\n",
              "  .colab-df-quickchart-complete:disabled,\n",
              "  .colab-df-quickchart-complete:disabled:hover {\n",
              "    background-color: var(--disabled-bg-color);\n",
              "    fill: var(--disabled-fill-color);\n",
              "    box-shadow: none;\n",
              "  }\n",
              "\n",
              "  .colab-df-spinner {\n",
              "    border: 2px solid var(--fill-color);\n",
              "    border-color: transparent;\n",
              "    border-bottom-color: var(--fill-color);\n",
              "    animation:\n",
              "      spin 1s steps(1) infinite;\n",
              "  }\n",
              "\n",
              "  @keyframes spin {\n",
              "    0% {\n",
              "      border-color: transparent;\n",
              "      border-bottom-color: var(--fill-color);\n",
              "      border-left-color: var(--fill-color);\n",
              "    }\n",
              "    20% {\n",
              "      border-color: transparent;\n",
              "      border-left-color: var(--fill-color);\n",
              "      border-top-color: var(--fill-color);\n",
              "    }\n",
              "    30% {\n",
              "      border-color: transparent;\n",
              "      border-left-color: var(--fill-color);\n",
              "      border-top-color: var(--fill-color);\n",
              "      border-right-color: var(--fill-color);\n",
              "    }\n",
              "    40% {\n",
              "      border-color: transparent;\n",
              "      border-right-color: var(--fill-color);\n",
              "      border-top-color: var(--fill-color);\n",
              "    }\n",
              "    60% {\n",
              "      border-color: transparent;\n",
              "      border-right-color: var(--fill-color);\n",
              "    }\n",
              "    80% {\n",
              "      border-color: transparent;\n",
              "      border-right-color: var(--fill-color);\n",
              "      border-bottom-color: var(--fill-color);\n",
              "    }\n",
              "    90% {\n",
              "      border-color: transparent;\n",
              "      border-bottom-color: var(--fill-color);\n",
              "    }\n",
              "  }\n",
              "</style>\n",
              "\n",
              "      <script>\n",
              "        async function quickchart(key) {\n",
              "          const quickchartButtonEl =\n",
              "            document.querySelector('#' + key + ' button');\n",
              "          quickchartButtonEl.disabled = true;  // To prevent multiple clicks.\n",
              "          quickchartButtonEl.classList.add('colab-df-spinner');\n",
              "          try {\n",
              "            const charts = await google.colab.kernel.invokeFunction(\n",
              "                'suggestCharts', [key], {});\n",
              "          } catch (error) {\n",
              "            console.error('Error during call to suggestCharts:', error);\n",
              "          }\n",
              "          quickchartButtonEl.classList.remove('colab-df-spinner');\n",
              "          quickchartButtonEl.classList.add('colab-df-quickchart-complete');\n",
              "        }\n",
              "        (() => {\n",
              "          let quickchartButtonEl =\n",
              "            document.querySelector('#df-058aa9ff-fb32-4fae-bf7c-40f021c72d12 button');\n",
              "          quickchartButtonEl.style.display =\n",
              "            google.colab.kernel.accessAllowed ? 'block' : 'none';\n",
              "        })();\n",
              "      </script>\n",
              "    </div>\n",
              "\n",
              "    </div>\n",
              "  </div>\n"
            ],
            "application/vnd.google.colaboratory.intrinsic+json": {
              "type": "dataframe",
              "variable_name": "df",
              "summary": "{\n  \"name\": \"df\",\n  \"rows\": 10000,\n  \"fields\": [\n    {\n      \"column\": \"College_ID\",\n      \"properties\": {\n        \"dtype\": \"category\",\n        \"num_unique_values\": 100,\n        \"samples\": [\n          \"CLG0084\",\n          \"CLG0029\",\n          \"CLG0059\"\n        ],\n        \"semantic_type\": \"\",\n        \"description\": \"\"\n      }\n    },\n    {\n      \"column\": \"IQ\",\n      \"properties\": {\n        \"dtype\": \"number\",\n        \"std\": 15,\n        \"min\": 41,\n        \"max\": 158,\n        \"num_unique_values\": 104,\n        \"samples\": [\n          102,\n          68,\n          124\n        ],\n        \"semantic_type\": \"\",\n        \"description\": \"\"\n      }\n    },\n    {\n      \"column\": \"Prev_Sem_Result\",\n      \"properties\": {\n        \"dtype\": \"number\",\n        \"std\": 1.44751882825296,\n        \"min\": 5.0,\n        \"max\": 10.0,\n        \"num_unique_values\": 501,\n        \"samples\": [\n          8.62,\n          5.14,\n          5.39\n        ],\n        \"semantic_type\": \"\",\n        \"description\": \"\"\n      }\n    },\n    {\n      \"column\": \"CGPA\",\n      \"properties\": {\n        \"dtype\": \"number\",\n        \"std\": 1.470140980249578,\n        \"min\": 4.54,\n        \"max\": 10.46,\n        \"num_unique_values\": 590,\n        \"samples\": [\n          9.3,\n          7.19,\n          5.09\n        ],\n        \"semantic_type\": \"\",\n        \"description\": \"\"\n      }\n    },\n    {\n      \"column\": \"Academic_Performance\",\n      \"properties\": {\n        \"dtype\": \"number\",\n        \"std\": 2,\n        \"min\": 1,\n        \"max\": 10,\n        \"num_unique_values\": 10,\n        \"samples\": [\n          10,\n          9,\n          4\n        ],\n        \"semantic_type\": \"\",\n        \"description\": \"\"\n      }\n    },\n    {\n      \"column\": \"Internship_Experience\",\n      \"properties\": {\n        \"dtype\": \"category\",\n        \"num_unique_values\": 2,\n        \"samples\": [\n          \"Yes\",\n          \"No\"\n        ],\n        \"semantic_type\": \"\",\n        \"description\": \"\"\n      }\n    },\n    {\n      \"column\": \"Extra_Curricular_Score\",\n      \"properties\": {\n        \"dtype\": \"number\",\n        \"std\": 3,\n        \"min\": 0,\n        \"max\": 10,\n        \"num_unique_values\": 11,\n        \"samples\": [\n          0,\n          8\n        ],\n        \"semantic_type\": \"\",\n        \"description\": \"\"\n      }\n    },\n    {\n      \"column\": \"Communication_Skills\",\n      \"properties\": {\n        \"dtype\": \"number\",\n        \"std\": 2,\n        \"min\": 1,\n        \"max\": 10,\n        \"num_unique_values\": 10,\n        \"samples\": [\n          3,\n          1\n        ],\n        \"semantic_type\": \"\",\n        \"description\": \"\"\n      }\n    },\n    {\n      \"column\": \"Projects_Completed\",\n      \"properties\": {\n        \"dtype\": \"number\",\n        \"std\": 1,\n        \"min\": 0,\n        \"max\": 5,\n        \"num_unique_values\": 6,\n        \"samples\": [\n          4,\n          0\n        ],\n        \"semantic_type\": \"\",\n        \"description\": \"\"\n      }\n    },\n    {\n      \"column\": \"Placement\",\n      \"properties\": {\n        \"dtype\": \"category\",\n        \"num_unique_values\": 2,\n        \"samples\": [\n          \"Yes\",\n          \"No\"\n        ],\n        \"semantic_type\": \"\",\n        \"description\": \"\"\n      }\n    }\n  ]\n}"
            }
          },
          "metadata": {},
          "execution_count": 9
        }
      ]
    },
    {
      "cell_type": "markdown",
      "source": [
        "Insights: Com df.head() percebi que temos 10 colunas e que se trata de uma base a respeito de alguns fatores para que o aluno seja colocado (placement) ou não (booleano). Placement = Yes (Passou) / Placement = Não (Não passou)"
      ],
      "metadata": {
        "id": "ubkuLdG_tYxQ"
      }
    },
    {
      "cell_type": "code",
      "source": [
        "print(df.shape)\n",
        "print(df.columns)\n",
        "print(df.dtypes)"
      ],
      "metadata": {
        "colab": {
          "base_uri": "https://localhost:8080/"
        },
        "id": "q6Mu_ZXEtFXc",
        "outputId": "22d1ea26-c28b-40d3-a89f-e5405845f001"
      },
      "execution_count": 11,
      "outputs": [
        {
          "output_type": "stream",
          "name": "stdout",
          "text": [
            "(10000, 10)\n",
            "Index(['College_ID', 'IQ', 'Prev_Sem_Result', 'CGPA', 'Academic_Performance',\n",
            "       'Internship_Experience', 'Extra_Curricular_Score',\n",
            "       'Communication_Skills', 'Projects_Completed', 'Placement'],\n",
            "      dtype='object')\n",
            "College_ID                 object\n",
            "IQ                          int64\n",
            "Prev_Sem_Result           float64\n",
            "CGPA                      float64\n",
            "Academic_Performance        int64\n",
            "Internship_Experience      object\n",
            "Extra_Curricular_Score      int64\n",
            "Communication_Skills        int64\n",
            "Projects_Completed          int64\n",
            "Placement                  object\n",
            "dtype: object\n"
          ]
        }
      ]
    },
    {
      "cell_type": "markdown",
      "source": [],
      "metadata": {
        "id": "_1sv9yR82Csb"
      }
    },
    {
      "cell_type": "markdown",
      "source": [
        "Insights: Aqui eu já consigo entender melhor a base e entendo que existem fatores booleanos e fatores que estão num esquema de pontuação."
      ],
      "metadata": {
        "id": "Rn2JPtN2udxQ"
      }
    },
    {
      "cell_type": "code",
      "source": [
        "#Extraindo a coluna placement como lista\n",
        "\n",
        "placements = list(df['Placement'])\n",
        "\n",
        "#Imprimindo os 5 primeiros valores da lista\n",
        "\n",
        "for placements in placements[:5]:\n",
        "  print(placements)"
      ],
      "metadata": {
        "colab": {
          "base_uri": "https://localhost:8080/"
        },
        "id": "XDSfX_jXwDUf",
        "outputId": "b8c11fee-419d-41e7-d0d7-113de512b7c2"
      },
      "execution_count": 13,
      "outputs": [
        {
          "output_type": "stream",
          "name": "stdout",
          "text": [
            "No\n",
            "No\n",
            "No\n",
            "No\n",
            "No\n"
          ]
        }
      ]
    },
    {
      "cell_type": "code",
      "source": [
        "#Criando um dicionário com os 3 primeiros valores de College_ID e Internship_Experience\n",
        "dicionario = dict(zip(df['College_ID'][:3], df['Internship_Experience'][:3]))\n",
        "print(dicionario)"
      ],
      "metadata": {
        "colab": {
          "base_uri": "https://localhost:8080/"
        },
        "id": "6YtYXyVMwdm-",
        "outputId": "59df11aa-a662-45e4-99d6-eb490c2d3715"
      },
      "execution_count": 14,
      "outputs": [
        {
          "output_type": "stream",
          "name": "stdout",
          "text": [
            "{'CLG0030': 'No', 'CLG0061': 'No', 'CLG0036': 'No'}\n"
          ]
        }
      ]
    },
    {
      "cell_type": "code",
      "source": [
        "#Pegando a primeira linha do dataframe\n",
        "linha0 = df.iloc[0]\n",
        "print(linha0)"
      ],
      "metadata": {
        "colab": {
          "base_uri": "https://localhost:8080/"
        },
        "id": "dbfNvmSmw96Q",
        "outputId": "66a5df61-3e1a-428a-9429-69884bfbb28a"
      },
      "execution_count": 15,
      "outputs": [
        {
          "output_type": "stream",
          "name": "stdout",
          "text": [
            "College_ID                CLG0030\n",
            "IQ                            107\n",
            "Prev_Sem_Result              6.61\n",
            "CGPA                         6.28\n",
            "Academic_Performance            8\n",
            "Internship_Experience          No\n",
            "Extra_Curricular_Score          8\n",
            "Communication_Skills            8\n",
            "Projects_Completed              4\n",
            "Placement                      No\n",
            "Name: 0, dtype: object\n"
          ]
        }
      ]
    },
    {
      "cell_type": "code",
      "source": [
        "#Criando uma tupla com com 2 colunas de texto e 1 númerica\n",
        "minha_tupla = (linha0['College_ID'], linha0['Internship_Experience'], linha0['Placement'])\n",
        "print(minha_tupla)"
      ],
      "metadata": {
        "colab": {
          "base_uri": "https://localhost:8080/"
        },
        "id": "6oQPD030xIFG",
        "outputId": "fb3e8cd8-73d7-4dd2-f60f-e1edfa53c2c9"
      },
      "execution_count": 16,
      "outputs": [
        {
          "output_type": "stream",
          "name": "stdout",
          "text": [
            "('CLG0030', 'No', 'No')\n"
          ]
        }
      ]
    },
    {
      "cell_type": "code",
      "source": [
        "#Selecionando a coluna_numerica que mais interessa para criar uma classificação\n",
        "\n",
        "coluna_numerica = 'CGPA'\n",
        "primeiro_valor = df[coluna_numerica].iloc[0]\n",
        "print(primeiro_valor)"
      ],
      "metadata": {
        "colab": {
          "base_uri": "https://localhost:8080/"
        },
        "id": "-lhL9rq0xW_Q",
        "outputId": "3da8f914-1489-4efc-c15d-f255eabb1bc3"
      },
      "execution_count": 17,
      "outputs": [
        {
          "output_type": "stream",
          "name": "stdout",
          "text": [
            "6.28\n"
          ]
        }
      ]
    },
    {
      "cell_type": "code",
      "source": [
        "#Classificando o CGPA (nota do aluno)\n",
        "if primeiro_valor > 8.5:\n",
        "  print('Desempenho Alto')\n",
        "elif primeiro_valor > 7.0:\n",
        "  print('Desempenho Médio')\n",
        "else:\n",
        "  print('Desempenho Baixo')"
      ],
      "metadata": {
        "colab": {
          "base_uri": "https://localhost:8080/"
        },
        "id": "rf1tqh9pyPar",
        "outputId": "a21a92ed-2a0a-4133-e7da-7141f39f9764"
      },
      "execution_count": 18,
      "outputs": [
        {
          "output_type": "stream",
          "name": "stdout",
          "text": [
            "Desempenho Baixo\n"
          ]
        }
      ]
    },
    {
      "cell_type": "code",
      "source": [
        "#Laço para somar os 5 primeiros CGPAS\n",
        "soma = 0\n",
        "lista = list(df[coluna_numerica][:5])\n",
        "for n in lista:\n",
        "  soma += n\n",
        "print(\"Soma dos 5 primeiros CGPAS:\", soma)"
      ],
      "metadata": {
        "colab": {
          "base_uri": "https://localhost:8080/"
        },
        "id": "1jjnwxycywq8",
        "outputId": "1e751d77-de30-4a21-c965-dcfeedc70e56"
      },
      "execution_count": 21,
      "outputs": [
        {
          "output_type": "stream",
          "name": "stdout",
          "text": [
            "Soma dos 5 primeiros CGPAS: 30.92\n"
          ]
        }
      ]
    },
    {
      "cell_type": "code",
      "source": [
        "#Laço while (encontrando o primeiro CGPA maior que o limite)\n",
        "limite = 7.0\n",
        "i = 0\n",
        "\n",
        "while i < len(lista) and lista[i] <= limite:\n",
        "  i +=1\n",
        "\n",
        "if i < len(lista):\n",
        "  print(f\"O primeiro CGPA maior que {limite} é {lista[i]}\")\n",
        "else:\n",
        "  print(f\"Não há nenhum CGPA maior que {limite}\")"
      ],
      "metadata": {
        "colab": {
          "base_uri": "https://localhost:8080/"
        },
        "id": "M3KRi1TIzEb9",
        "outputId": "8aa2d2e7-3fe5-4cf7-b649-2a057a2c72da"
      },
      "execution_count": 25,
      "outputs": [
        {
          "output_type": "stream",
          "name": "stdout",
          "text": [
            "O primeiro CGPA maior que 7.0 é 7.69\n"
          ]
        }
      ]
    },
    {
      "cell_type": "markdown",
      "source": [
        "Insights: Ao aplicar uma classificação condicional ao primeiro CGPA da base, identifiquei que o desempenho era baixo, com o valor de 6.28. A soma dos 5 primeiros CGPAS resultou em 30.92, sugerindo que o grupo inicial possui um desempenho baixo. O laço while mostrou que o primeiro CGPA acima de 7.0 está dentro dos 5 primeiros valores."
      ],
      "metadata": {
        "id": "Pcba8sNCz9La"
      }
    },
    {
      "cell_type": "markdown",
      "source": [
        "Vamos ver a diferença entre a nota atual e a nota do semestre anterior\n"
      ],
      "metadata": {
        "id": "3O9v_9Rx1C9z"
      }
    },
    {
      "cell_type": "code",
      "source": [
        "#Printando diferença entre CGPA e CGPA anterior\n",
        "\n",
        "if 'CGPA' in df.columns and 'Prev_Sem_Result' in df.columns:\n",
        "    df['Diferenca_CGPA'] = df['CGPA'] - df['Prev_Sem_Result']\n",
        "    print(df[['CGPA', 'Prev_Sem_Result', 'Diferenca_CGPA']].head())\n"
      ],
      "metadata": {
        "colab": {
          "base_uri": "https://localhost:8080/"
        },
        "id": "oUVd3mFr1Iom",
        "outputId": "a5ac0aad-3c56-4031-e4cf-84e7587e7140"
      },
      "execution_count": 26,
      "outputs": [
        {
          "output_type": "stream",
          "name": "stdout",
          "text": [
            "   CGPA  Prev_Sem_Result  Diferenca_CGPA\n",
            "0  6.28             6.61           -0.33\n",
            "1  5.37             5.52           -0.15\n",
            "2  5.83             5.36            0.47\n",
            "3  5.75             5.47            0.28\n",
            "4  7.69             7.91           -0.22\n"
          ]
        }
      ]
    },
    {
      "cell_type": "code",
      "source": [
        "#Somando Desempenho Academico com Communication Skills\n",
        "\n",
        "if 'Academic_Performance' in df.columns and 'Communication_Skills' in df.columns:\n",
        "    df['Score_Completo'] = df['Academic_Performance'] + df['Communication_Skills']\n",
        "    print(df[['Academic_Performance', 'Communication_Skills', 'Score_Completo']].head())\n"
      ],
      "metadata": {
        "colab": {
          "base_uri": "https://localhost:8080/"
        },
        "id": "SxGUvmO41ws6",
        "outputId": "7743872b-1749-4b18-9460-d94f28dc3ac7"
      },
      "execution_count": 27,
      "outputs": [
        {
          "output_type": "stream",
          "name": "stdout",
          "text": [
            "   Academic_Performance  Communication_Skills  Score_Completo\n",
            "0                     8                     8              16\n",
            "1                     8                     8              16\n",
            "2                     9                     1              10\n",
            "3                     6                     6              12\n",
            "4                     7                    10              17\n"
          ]
        }
      ]
    },
    {
      "cell_type": "code",
      "source": [
        "# Criando um array NumPy a partir da coluna IQ\n",
        "array_iq = np.array(df['IQ'])\n",
        "\n",
        "# Operações vetorizadas\n",
        "array_iq_plus10 = array_iq + 10\n",
        "array_iq_squared = array_iq ** 2\n",
        "\n",
        "# Fatiamento (slicing) para exibir os 5 primeiros elementos\n",
        "print(\"Valores originais:\", array_iq[:5])\n",
        "print(\"Valores somados (+10):\", array_iq_plus10[:5])\n",
        "print(\"Valores ao quadrado:\", array_iq_squared[:5])\n",
        "\n",
        "# Operações agregadas\n",
        "print(\"Soma total dos IQs:\", array_iq.sum())\n",
        "print(\"Média dos IQs:\", array_iq.mean())"
      ],
      "metadata": {
        "colab": {
          "base_uri": "https://localhost:8080/"
        },
        "id": "ZYVsiIL52SnV",
        "outputId": "fc868bfd-6847-4ec8-8f8d-1de101d43c50"
      },
      "execution_count": 29,
      "outputs": [
        {
          "output_type": "stream",
          "name": "stdout",
          "text": [
            "Valores originais: [107  97 109 122  96]\n",
            "Valores somados (+10): [117 107 119 132 106]\n",
            "Valores ao quadrado: [11449  9409 11881 14884  9216]\n",
            "Soma total dos IQs: 994718\n",
            "Média dos IQs: 99.4718\n"
          ]
        }
      ]
    },
    {
      "cell_type": "markdown",
      "source": [
        "Insights: Ao criar um array Numpy, percebi que os 5 primeiros valores de IQ variam entre 96 e 122, e a média desses 5 primeiros valores é 99.4718\n"
      ],
      "metadata": {
        "id": "WCuCjqG12oPM"
      }
    },
    {
      "cell_type": "code",
      "source": [
        "#Selecionando a primeira linha com iloc\n",
        "print(df.iloc[0])\n",
        "\n",
        "#Selecionando alunos com CGPA maior que 8.5\n",
        "filtro = df.loc[df['CGPA'] > 8.5]\n",
        "print(filtro[['College_ID', 'CGPA']].head())\n"
      ],
      "metadata": {
        "colab": {
          "base_uri": "https://localhost:8080/"
        },
        "id": "oynKaJDq3B6O",
        "outputId": "175e8905-7a34-4878-b8d0-5cc68c951ab3"
      },
      "execution_count": 32,
      "outputs": [
        {
          "output_type": "stream",
          "name": "stdout",
          "text": [
            "College_ID                CLG0030\n",
            "IQ                            107\n",
            "Prev_Sem_Result              6.61\n",
            "CGPA                         6.28\n",
            "Academic_Performance            8\n",
            "Internship_Experience          No\n",
            "Extra_Curricular_Score          8\n",
            "Communication_Skills            8\n",
            "Projects_Completed              4\n",
            "Placement                      No\n",
            "Diferenca_CGPA              -0.33\n",
            "Score_Completo                 16\n",
            "Name: 0, dtype: object\n",
            "   College_ID   CGPA\n",
            "7     CLG0096   8.76\n",
            "9     CLG0057   8.60\n",
            "10    CLG0063   8.90\n",
            "12    CLG0064   9.01\n",
            "17    CLG0050  10.01\n"
          ]
        }
      ]
    },
    {
      "cell_type": "code",
      "source": [
        "#Contando quantos estudantes foram colocados vs não colocados\n",
        "contagem_colocacao = df['Placement'].value_counts()\n",
        "print(contagem_colocacao)\n"
      ],
      "metadata": {
        "colab": {
          "base_uri": "https://localhost:8080/"
        },
        "id": "s1JYNsTj3KG0",
        "outputId": "23d49ac1-944a-4c8b-de8e-ffe667430a67"
      },
      "execution_count": 33,
      "outputs": [
        {
          "output_type": "stream",
          "name": "stdout",
          "text": [
            "Placement\n",
            "No     8341\n",
            "Yes    1659\n",
            "Name: count, dtype: int64\n"
          ]
        }
      ]
    },
    {
      "cell_type": "markdown",
      "source": [
        "Agrupamento com .groupby(): média de CGPA por experiência de estágio\n",
        "\n"
      ],
      "metadata": {
        "id": "leC4yQz13ZP7"
      }
    },
    {
      "cell_type": "code",
      "source": [
        "media_cgpa_estagio = df.groupby('Internship_Experience')['CGPA'].mean()\n",
        "print(media_cgpa_estagio)\n"
      ],
      "metadata": {
        "colab": {
          "base_uri": "https://localhost:8080/"
        },
        "id": "ReCN3M6O3cTr",
        "outputId": "f48a088c-0314-410c-c06d-3fdadf015b6a"
      },
      "execution_count": 35,
      "outputs": [
        {
          "output_type": "stream",
          "name": "stdout",
          "text": [
            "Internship_Experience\n",
            "No     7.547344\n",
            "Yes    7.509591\n",
            "Name: CGPA, dtype: float64\n"
          ]
        }
      ]
    },
    {
      "cell_type": "markdown",
      "source": [
        "Criando algumas visualizações:\n"
      ],
      "metadata": {
        "id": "ViLN3JW14gl-"
      }
    },
    {
      "cell_type": "code",
      "source": [
        "# Contagem dos valores da coluna Placement\n",
        "placement_counts = df['Placement'].value_counts()\n",
        "\n",
        "# Gráfico de barras\n",
        "plt.figure(figsize=(6, 4))\n",
        "placement_counts.plot(kind='bar', color=['green', 'red'])\n",
        "plt.title('Distribuição de Alunos por Placement')\n",
        "plt.xlabel('Placement')\n",
        "plt.ylabel('Quantidade de Alunos')\n",
        "plt.xticks(rotation=0)\n",
        "plt.grid(axis='y')\n",
        "plt.show()\n"
      ],
      "metadata": {
        "colab": {
          "base_uri": "https://localhost:8080/",
          "height": 410
        },
        "id": "vJbYAofT5dK2",
        "outputId": "d730b9c7-bdb0-418e-ffdc-d81fca7ff788"
      },
      "execution_count": 40,
      "outputs": [
        {
          "output_type": "display_data",
          "data": {
            "text/plain": [
              "<Figure size 600x400 with 1 Axes>"
            ],
            "image/png": "[encoded data removed]"
          },
          "metadata": {}
        }
      ]
    },
    {
      "cell_type": "code",
      "source": [
        "# Agrupando por Placement e calculando a média do CGPA\n",
        "media_cgpa = df.groupby('Placement')['CGPA'].mean()\n",
        "\n",
        "# Gráfico de barras\n",
        "plt.figure(figsize=(6, 4))\n",
        "media_cgpa.plot(kind='bar', color=['green', 'red'])\n",
        "plt.title('Média de CGPA por Placement')\n",
        "plt.xlabel('Placement')\n",
        "plt.ylabel('Média de CGPA')\n",
        "plt.xticks(rotation=0)\n",
        "plt.grid(axis='y')\n",
        "plt.show()\n"
      ],
      "metadata": {
        "colab": {
          "base_uri": "https://localhost:8080/",
          "height": 411
        },
        "id": "DuGKRd5r5oZr",
        "outputId": "9e2b923c-d785-4fa5-fb9a-05de952d0765"
      },
      "execution_count": 41,
      "outputs": [
        {
          "output_type": "display_data",
          "data": {
            "text/plain": [
              "<Figure size 600x400 with 1 Axes>"
            ],
            "image/png": "[encoded data removed]"
          },
          "metadata": {}
        }
      ]
    },
    {
      "cell_type": "code",
      "source": [
        "# Filtrando alunos com IQ maior que 100\n",
        "iq_maior_que_100 = df[df['IQ'] > 100]\n",
        "\n",
        "# Exibindo a quantidade\n",
        "quantidade = iq_maior_que_100.shape[0]\n",
        "print(\"Quantidade de alunos com IQ maior que 100:\", quantidade)\n"
      ],
      "metadata": {
        "colab": {
          "base_uri": "https://localhost:8080/"
        },
        "id": "81wt5DVP5sLW",
        "outputId": "cfb46476-6f60-43f1-9742-809199919305"
      },
      "execution_count": 42,
      "outputs": [
        {
          "output_type": "stream",
          "name": "stdout",
          "text": [
            "Quantidade de alunos com IQ maior que 100: 4729\n"
          ]
        }
      ]
    },
    {
      "cell_type": "code",
      "source": [
        "# Criando uma nova coluna com a classificação de IQ\n",
        "df['IQ_Nivel'] = df['IQ'].apply(lambda x: 'IQ > 100' if x > 100 else 'IQ ≤ 100')\n",
        "\n",
        "# Contando quantos alunos em cada grupo\n",
        "contagem_iq = df['IQ_Nivel'].value_counts()\n",
        "print(contagem_iq)\n"
      ],
      "metadata": {
        "colab": {
          "base_uri": "https://localhost:8080/"
        },
        "id": "raxiQRCo6JJV",
        "outputId": "492d59ec-9a5b-49f4-d412-88f281ed9bfe"
      },
      "execution_count": 43,
      "outputs": [
        {
          "output_type": "stream",
          "name": "stdout",
          "text": [
            "IQ_Nivel\n",
            "IQ ≤ 100    5271\n",
            "IQ > 100    4729\n",
            "Name: count, dtype: int64\n"
          ]
        }
      ]
    },
    {
      "cell_type": "code",
      "source": [
        "# Gráfico de barras com a quantidade de alunos por faixa de IQ\n",
        "plt.figure(figsize=(6, 4))\n",
        "contagem_iq.plot(kind='bar', color=['royalblue', 'orange'])\n",
        "plt.title('Distribuição de Alunos por Faixa de IQ')\n",
        "plt.xlabel('Faixa de IQ')\n",
        "plt.ylabel('Quantidade de Alunos')\n",
        "plt.xticks(rotation=0)\n",
        "plt.grid(axis='y')\n",
        "plt.show()\n"
      ],
      "metadata": {
        "colab": {
          "base_uri": "https://localhost:8080/",
          "height": 410
        },
        "id": "TV2Q1B6C6NPZ",
        "outputId": "9e9941f8-744b-4aa2-f59c-7a811bbed0c3"
      },
      "execution_count": 44,
      "outputs": [
        {
          "output_type": "display_data",
          "data": {
            "text/plain": [
              "<Figure size 600x400 with 1 Axes>"
            ],
            "image/png": "[encoded data removed]"
          },
          "metadata": {}
        }
      ]
    },
    {
      "cell_type": "markdown",
      "source": [
        "## Relatório Final: Projeto Data-Driven Insights\n",
        "\n",
        "Neste projeto, explorei a base de dados de colocação de estudantes universitários, contendo 10.000 linhas e 10 colunas. A análise abordou características como CGPA, QI, desempenho acadêmico, habilidades de comunicação, estágios e colocação profissional.\n",
        "\n",
        "Com o uso de listas, dicionários e tuplas, explorei a estrutura dos dados. Aplicações de estruturas condicionais e laços revelaram padrões de desempenho acadêmico, enquanto operações matemáticas e vetorizadas com NumPy permitiram entender tendências de notas e escores.\n",
        "\n",
        "Com pandas, identifiquei que:\n",
        "- Alunos com experiência de estágio não influenciou muito na colocação.\n",
        "- A maioria dos alunos **não foi colocada**, mas há espaço para melhorias em comunicação e projetos.\n",
        "\n",
        "\n",
        "**Próximas perguntas investigáveis**:\n",
        "- Quais variáveis mais impactam a colocação?\n",
        "- Estágio ou projetos têm maior peso na performance?\n",
        "- Existe correlação entre extra_curricular score e placement?\n",
        "\n",
        "Este exercício reforçou o poder de análise exploratória com Python e visualização para gerar insights relevantes a partir de dados brutos.\n"
      ],
      "metadata": {
        "id": "ziENI6X06ecw"
      }
    }
  ]
}